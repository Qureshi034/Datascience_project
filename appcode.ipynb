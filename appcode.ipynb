{
  "nbformat": 4,
  "nbformat_minor": 0,
  "metadata": {
    "colab": {
      "name": "FlaskOnColab.ipynb",
      "provenance": [],
      "collapsed_sections": []
    },
    "kernelspec": {
      "name": "python3",
      "display_name": "Python 3"
    },
    "language_info": {
      "name": "python"
    }
  },
  "cells": [
    {
      "cell_type": "code",
      "source": [
        "!pip install flask_ngrok"
      ],
      "metadata": {
        "id": "mCW4xoUiSM-V"
      },
      "execution_count": null,
      "outputs": []
    },
    {
      "cell_type": "code",
      "execution_count": null,
      "metadata": {
        "id": "FTpXnotTRu48"
      },
      "outputs": [],
      "source": [
        "from flask_ngrok import run_with_ngrok\n",
        "from flask import Flask, render_template, request\n",
        "import pickle\n",
        "import numpy as np\n",
        "import pandas as pd\n",
        "\n",
        "data = pickle.load(open('.pkl', 'rb'))\n",
        "\n",
        "\n",
        "# In[11]:\n",
        "\n",
        "\n",
        "app = Flask(__name__)\n",
        "\n",
        "\n",
        "\n",
        "@app.route('/')\n",
        "def man():\n",
        "    return render_template('PakistanMedicalInsurance.html')\n",
        "@app.route('/', methods=['POST'])\n",
        "def predict():\n",
        "    x = np.array(df['age'], df['age'])\n",
        "    y = np.array(df['bodymassindex'].values.tolist())\n",
        "    first = request.form['x']\n",
        "    second = request.form['y']\n",
        "    arr = np.array([[first, second]])\n",
        "    pred = data.predict(arr)\n",
        "    return render_template('PakistanMedicalInsurance.html', data=pred)\n",
        "\n",
        "if __name__ == \"__main__\":\n",
        "         app.debug== True;\n",
        "         app.run()"
      ]
    },
    {
      "cell_type": "code",
      "source": [
        ""
      ],
      "metadata": {
        "id": "b6AqjL_6SNmp"
      },
      "execution_count": null,
      "outputs": []
    }
  ]
}